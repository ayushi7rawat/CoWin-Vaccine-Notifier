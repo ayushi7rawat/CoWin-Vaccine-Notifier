{
  "nbformat": 4,
  "nbformat_minor": 0,
  "metadata": {
    "colab": {
      "name": "3_NLP.ipynb",
      "provenance": [],
      "collapsed_sections": [],
      "authorship_tag": "ABX9TyOsdrJNfhg4bPj/0MQeOaix",
      "include_colab_link": true
    },
    "kernelspec": {
      "name": "python3",
      "display_name": "Python 3"
    },
    "language_info": {
      "name": "python"
    }
  },
  "cells": [
    {
      "cell_type": "markdown",
      "metadata": {
        "id": "view-in-github",
        "colab_type": "text"
      },
      "source": [
        "<a href=\"https://colab.research.google.com/github/manavpatnaik/CoWin-Vaccine-Notifier/blob/main/3_NLP.ipynb\" target=\"_parent\"><img src=\"https://colab.research.google.com/assets/colab-badge.svg\" alt=\"Open In Colab\"/></a>"
      ]
    },
    {
      "cell_type": "markdown",
      "source": [
        "# N-Gram models and Perplexity\n",
        "\n",
        "Name: Manav Patnaik\n",
        "\n",
        "Roll: CB.EN.U4CSE19033"
      ],
      "metadata": {
        "id": "EGLGMZLLhoxU"
      }
    },
    {
      "cell_type": "code",
      "source": [
        "import nltk\n",
        "nltk.download('reuters')\n",
        "nltk.download('punkt')"
      ],
      "metadata": {
        "colab": {
          "base_uri": "https://localhost:8080/"
        },
        "id": "S-NLaMEd_oxZ",
        "outputId": "552300a1-df0f-48be-b60c-0a022d25d3ab"
      },
      "execution_count": 36,
      "outputs": [
        {
          "output_type": "stream",
          "name": "stdout",
          "text": [
            "[nltk_data] Downloading package reuters to /root/nltk_data...\n",
            "[nltk_data]   Package reuters is already up-to-date!\n",
            "[nltk_data] Downloading package punkt to /root/nltk_data...\n",
            "[nltk_data]   Package punkt is already up-to-date!\n"
          ]
        },
        {
          "output_type": "execute_result",
          "data": {
            "text/plain": [
              "True"
            ]
          },
          "metadata": {},
          "execution_count": 36
        }
      ]
    },
    {
      "cell_type": "code",
      "source": [
        "import os\n",
        "print(os.listdir('/root/nltk_data/corpora'))"
      ],
      "metadata": {
        "colab": {
          "base_uri": "https://localhost:8080/"
        },
        "id": "-f4CwzOPC-Sj",
        "outputId": "0ecfc440-0ba9-46e3-ac8d-1ed85a629a91"
      },
      "execution_count": 37,
      "outputs": [
        {
          "output_type": "stream",
          "name": "stdout",
          "text": [
            "['reuters', 'reuters.zip']\n"
          ]
        }
      ]
    },
    {
      "cell_type": "code",
      "source": [
        ""
      ],
      "metadata": {
        "id": "2tJEK072ETuz"
      },
      "execution_count": null,
      "outputs": []
    },
    {
      "cell_type": "code",
      "source": [
        "!unzip '/root/nltk_data/corpora/reuters.zip' -d '/root/nltk_data/corpora/'"
      ],
      "metadata": {
        "id": "H-AuY05ZDTZv"
      },
      "execution_count": null,
      "outputs": []
    },
    {
      "cell_type": "code",
      "source": [
        "from nltk.corpus import reuters\n",
        "from nltk import bigrams, trigrams\n",
        "from collections import Counter, defaultdict"
      ],
      "metadata": {
        "id": "A5RD9UsK_hPg"
      },
      "execution_count": 39,
      "outputs": []
    },
    {
      "cell_type": "code",
      "source": [
        "reuters.fileids()"
      ],
      "metadata": {
        "id": "eZyPgi--DmVa"
      },
      "execution_count": null,
      "outputs": []
    },
    {
      "cell_type": "markdown",
      "source": [
        "Create a placeholder for model"
      ],
      "metadata": {
        "id": "LsjhLawbD4fE"
      }
    },
    {
      "cell_type": "code",
      "source": [
        "model = defaultdict(lambda: defaultdict(lambda: 0))"
      ],
      "metadata": {
        "id": "xLgydbaLD69t"
      },
      "execution_count": 41,
      "outputs": []
    },
    {
      "cell_type": "markdown",
      "source": [
        "Count freq of co-occurences"
      ],
      "metadata": {
        "id": "VuqB9jZCEDcC"
      }
    },
    {
      "cell_type": "code",
      "source": [
        "for sentence in reuters.sents():\n",
        "  for w1, w2, w3 in trigrams(sentence, pad_right=True, pad_left=True):\n",
        "    model[(w1, w2)][w3] += 1"
      ],
      "metadata": {
        "id": "AqRMX5rPEG9U"
      },
      "execution_count": 43,
      "outputs": []
    },
    {
      "cell_type": "markdown",
      "source": [
        "Transforming the counts into probabilities"
      ],
      "metadata": {
        "id": "rbqcaQbxE2FK"
      }
    },
    {
      "cell_type": "code",
      "source": [
        "import random"
      ],
      "metadata": {
        "id": "ALrq6BcbEzSD"
      },
      "execution_count": 44,
      "outputs": []
    },
    {
      "cell_type": "code",
      "source": [
        "text = ['today', 'the']\n",
        "eos = False"
      ],
      "metadata": {
        "id": "udp9UyyvE57_"
      },
      "execution_count": 45,
      "outputs": []
    },
    {
      "cell_type": "code",
      "source": [
        "while not eos:\n",
        "  r = random.random()\n",
        "  accumulator = .0\n",
        "\n",
        "  for word in model[tuple(text[-2:])].keys():\n",
        "    accumulator += model[tuple(text[-2:])][word]\n",
        "    if (accumulator >= r):\n",
        "      text.append(word)\n",
        "      break\n",
        "  \n",
        "  if text[-2:] == [None, None]:\n",
        "    eos = True"
      ],
      "metadata": {
        "id": "fgA9-RetEAsn"
      },
      "execution_count": 49,
      "outputs": []
    },
    {
      "cell_type": "code",
      "source": [
        "print(dict(model['today', 'the']))"
      ],
      "metadata": {
        "colab": {
          "base_uri": "https://localhost:8080/"
        },
        "id": "HaxeGZB3FqiP",
        "outputId": "89662cf7-66b1-43a7-a993-3d8e3f202ced"
      },
      "execution_count": 50,
      "outputs": [
        {
          "output_type": "stream",
          "name": "stdout",
          "text": [
            "{'public': 1, 'European': 1, 'Bank': 1, 'price': 2, 'emirate': 1, 'overseas': 1, 'newspaper': 1, 'company': 3, 'Turkish': 1, 'increase': 1, 'options': 1, 'Higher': 1, 'pound': 1, 'Italian': 1, 'time': 1}\n"
          ]
        }
      ]
    },
    {
      "cell_type": "markdown",
      "source": [
        "Printing the predictions of the model"
      ],
      "metadata": {
        "id": "wYvIAZXxKp5p"
      }
    },
    {
      "cell_type": "code",
      "source": [
        "print(' '.join([t for t in text if t]))"
      ],
      "metadata": {
        "colab": {
          "base_uri": "https://localhost:8080/"
        },
        "id": "Tg4p_MYfFIOt",
        "outputId": "6cd1636e-7805-4b98-d38c-677c1d6735a9"
      },
      "execution_count": 51,
      "outputs": [
        {
          "output_type": "stream",
          "name": "stdout",
          "text": [
            "today the public is at constant risk to contaminated and adulterated meat ,\" Kenneth Blaylock , president and chief executive .\n"
          ]
        }
      ]
    }
  ]
}